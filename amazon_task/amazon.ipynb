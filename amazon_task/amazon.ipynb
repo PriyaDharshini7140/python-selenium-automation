{
 "cells": [
  {
   "cell_type": "code",
   "execution_count": 1,
   "id": "ff08b6e9",
   "metadata": {},
   "outputs": [],
   "source": [
    "from selenium import webdriver\n",
    "from selenium.webdriver.support.ui import Select\n",
    "import pandas as pd\n",
    "import time\n",
    "import itertools"
   ]
  },
  {
   "cell_type": "code",
   "execution_count": 100,
   "id": "ce9b0081",
   "metadata": {},
   "outputs": [
    {
     "name": "stderr",
     "output_type": "stream",
     "text": [
      "C:\\ProgramData\\Anaconda3\\lib\\site-packages\\xlsxwriter\\workbook.py:336: UserWarning: Calling close() on already closed file.\n",
      "  warn(\"Calling close() on already closed file.\")\n"
     ]
    }
   ],
   "source": [
    "driver_path=r\"C:\\Users\\merit\\Downloads\\chromedriver.exe\"\n",
    "driver=webdriver.Chrome(executable_path=driver_path)\n",
    "driver.get(\"https://www.amazon.in/s?k=instrument&ref=nb_sb_noss_1\")\n",
    "writer= pd.ExcelWriter(\"am.xlsx\",engine=\"xlsxwriter\")\n",
    "driver.maximize_window()\n",
    "t=[]\n",
    "p=[]\n",
    "d=[]\n",
    "time.sleep(1)\n",
    "title=driver.find_elements_by_xpath(\"//span[contains(@class,'a-size-base-plus a-color-base a-text-normal')]\")\n",
    "price=driver.find_elements_by_xpath(\"//span[contains(@class,'a-price-whole')]\")\n",
    "dropPrice=driver.find_elements_by_xpath(\"//span[contains(@class,'a-price a-text-price')]\")\n",
    "for i in title:\n",
    "    if i.text != \"\":\n",
    "         t.append(i.text)\n",
    "  \n",
    "       \n",
    "for j in price:\n",
    "    if j.text == \"\":\n",
    "        p.append(\"-\")\n",
    "    else:\n",
    "        p.append(j.text)\n",
    "for k in dropPrice:\n",
    "    if k.text == \"\":\n",
    "        d.append(\"-\")\n",
    "    else:\n",
    "        d.append(k.text)\n",
    "\n",
    "    \n",
    "\n",
    "df=pd.DataFrame(list(zip(t,p,d)),columns=['Title','drop-price','original-price'])\n",
    "df.to_excel(writer,sheet_name=\"instruments\",index=False)\n",
    "writer.save()\n",
    "writer.close()"
   ]
  },
  {
   "cell_type": "code",
   "execution_count": 59,
   "id": "f9f6d116",
   "metadata": {},
   "outputs": [],
   "source": [
    "import os\n",
    "os.chdir(r\"C:\\Users\\Merit.MSSPLACA004\\Desktop\")"
   ]
  },
  {
   "cell_type": "code",
   "execution_count": 101,
   "id": "1d4ea9fc",
   "metadata": {},
   "outputs": [
    {
     "data": {
      "text/html": [
       "<div>\n",
       "<style scoped>\n",
       "    .dataframe tbody tr th:only-of-type {\n",
       "        vertical-align: middle;\n",
       "    }\n",
       "\n",
       "    .dataframe tbody tr th {\n",
       "        vertical-align: top;\n",
       "    }\n",
       "\n",
       "    .dataframe thead th {\n",
       "        text-align: right;\n",
       "    }\n",
       "</style>\n",
       "<table border=\"1\" class=\"dataframe\">\n",
       "  <thead>\n",
       "    <tr style=\"text-align: right;\">\n",
       "      <th></th>\n",
       "      <th>Title</th>\n",
       "      <th>drop-price</th>\n",
       "      <th>original-price</th>\n",
       "    </tr>\n",
       "  </thead>\n",
       "  <tbody>\n",
       "    <tr>\n",
       "      <th>0</th>\n",
       "      <td>Molioon 17 Keys Kalimba Mahogany Body Thumb Pi...</td>\n",
       "      <td>2,999</td>\n",
       "      <td>₹4,000.00</td>\n",
       "    </tr>\n",
       "    <tr>\n",
       "      <th>1</th>\n",
       "      <td>East top Mouth Organ Key of Paddy C 10 Holes 2...</td>\n",
       "      <td>2,999</td>\n",
       "      <td>₹5,270.00</td>\n",
       "    </tr>\n",
       "    <tr>\n",
       "      <th>2</th>\n",
       "      <td>JAPS BIZ Tambourine/Dafli Hand Percussion Musi...</td>\n",
       "      <td>5,250</td>\n",
       "      <td>₹3,599</td>\n",
       "    </tr>\n",
       "    <tr>\n",
       "      <th>3</th>\n",
       "      <td>SZJUNXIAO Thumb Piano 17 Keys Musical Instrume...</td>\n",
       "      <td>1,999</td>\n",
       "      <td>₹2,031.19</td>\n",
       "    </tr>\n",
       "    <tr>\n",
       "      <th>4</th>\n",
       "      <td>DronaIndia Tambourine Hand Percussion Musical ...</td>\n",
       "      <td>1,688</td>\n",
       "      <td>₹499</td>\n",
       "    </tr>\n",
       "    <tr>\n",
       "      <th>...</th>\n",
       "      <td>...</td>\n",
       "      <td>...</td>\n",
       "      <td>...</td>\n",
       "    </tr>\n",
       "    <tr>\n",
       "      <th>57</th>\n",
       "      <td>BOOMBOX_ Hand Percussion 8 inch dafli_handtal ...</td>\n",
       "      <td>142</td>\n",
       "      <td>₹1,299</td>\n",
       "    </tr>\n",
       "    <tr>\n",
       "      <th>58</th>\n",
       "      <td>Musical Coconut Shell Maracas Instrument</td>\n",
       "      <td>499</td>\n",
       "      <td>₹5,995</td>\n",
       "    </tr>\n",
       "    <tr>\n",
       "      <th>59</th>\n",
       "      <td>ARCTIC AR-PVK-01 Neo Violin Kit - Violin 4/4 w...</td>\n",
       "      <td>419</td>\n",
       "      <td>₹41,100</td>\n",
       "    </tr>\n",
       "    <tr>\n",
       "      <th>60</th>\n",
       "      <td>Shure SM81-LC Cardioid Condenser Instrument Mi...</td>\n",
       "      <td>3,999</td>\n",
       "      <td>₹1,020</td>\n",
       "    </tr>\n",
       "    <tr>\n",
       "      <th>61</th>\n",
       "      <td>Planet Waves PW-CGTRA-10 10ft. Classic Instrument</td>\n",
       "      <td>33,554</td>\n",
       "      <td>₹4,329</td>\n",
       "    </tr>\n",
       "  </tbody>\n",
       "</table>\n",
       "<p>62 rows × 3 columns</p>\n",
       "</div>"
      ],
      "text/plain": [
       "                                                Title drop-price  \\\n",
       "0   Molioon 17 Keys Kalimba Mahogany Body Thumb Pi...      2,999   \n",
       "1   East top Mouth Organ Key of Paddy C 10 Holes 2...      2,999   \n",
       "2   JAPS BIZ Tambourine/Dafli Hand Percussion Musi...      5,250   \n",
       "3   SZJUNXIAO Thumb Piano 17 Keys Musical Instrume...      1,999   \n",
       "4   DronaIndia Tambourine Hand Percussion Musical ...      1,688   \n",
       "..                                                ...        ...   \n",
       "57  BOOMBOX_ Hand Percussion 8 inch dafli_handtal ...        142   \n",
       "58           Musical Coconut Shell Maracas Instrument        499   \n",
       "59  ARCTIC AR-PVK-01 Neo Violin Kit - Violin 4/4 w...        419   \n",
       "60  Shure SM81-LC Cardioid Condenser Instrument Mi...      3,999   \n",
       "61  Planet Waves PW-CGTRA-10 10ft. Classic Instrument     33,554   \n",
       "\n",
       "   original-price  \n",
       "0       ₹4,000.00  \n",
       "1       ₹5,270.00  \n",
       "2          ₹3,599  \n",
       "3       ₹2,031.19  \n",
       "4            ₹499  \n",
       "..            ...  \n",
       "57         ₹1,299  \n",
       "58         ₹5,995  \n",
       "59        ₹41,100  \n",
       "60         ₹1,020  \n",
       "61         ₹4,329  \n",
       "\n",
       "[62 rows x 3 columns]"
      ]
     },
     "execution_count": 101,
     "metadata": {},
     "output_type": "execute_result"
    }
   ],
   "source": [
    "df"
   ]
  },
  {
   "cell_type": "code",
   "execution_count": 91,
   "id": "6297fd66",
   "metadata": {},
   "outputs": [
    {
     "data": {
      "text/plain": [
       "63"
      ]
     },
     "execution_count": 91,
     "metadata": {},
     "output_type": "execute_result"
    }
   ],
   "source": [
    "len(d)"
   ]
  },
  {
   "cell_type": "code",
   "execution_count": null,
   "id": "83a0e960",
   "metadata": {},
   "outputs": [],
   "source": []
  }
 ],
 "metadata": {
  "kernelspec": {
   "display_name": "Python 3",
   "language": "python",
   "name": "python3"
  },
  "language_info": {
   "codemirror_mode": {
    "name": "ipython",
    "version": 3
   },
   "file_extension": ".py",
   "mimetype": "text/x-python",
   "name": "python",
   "nbconvert_exporter": "python",
   "pygments_lexer": "ipython3",
   "version": "3.8.8"
  }
 },
 "nbformat": 4,
 "nbformat_minor": 5
}
