{
 "cells": [
  {
   "cell_type": "code",
   "execution_count": 15,
   "id": "5acd14a2",
   "metadata": {},
   "outputs": [],
   "source": [
    "import time\n",
    "import os\n",
    "from selenium import webdriver\n",
    "driver_path=r\"C:\\Users\\merit\\Downloads\\chromedriver.exe\"\n",
    "driver=webdriver.Chrome(executable_path=driver_path)\n",
    "driver.maximize_window()\n",
    "driver.get(\"https://www.cricbuzz.com/cricket-match/live-scores\")\n",
    "driver.find_element_by_xpath(\"//a[contains(text(),'Teams')]\").click()\n",
    "driver.find_element_by_xpath(\"//a[contains(text(),'International')]\").click()\n",
    "country=driver.find_elements_by_xpath(\"//h1[contains(text(),'Cricket Teams')]//following::h2\")\n",
    "l=[]\n",
    "for i in country:\n",
    "    l.append(i.text)\n",
    "img=driver.find_elements_by_xpath(\"//div[contains(@class,'cb-col cb-col-25')]\")\n",
    "for i,j in zip(img,l): \n",
    "    with open(j+\"‪.png\",'wb') as file:\n",
    "        file.write(i.screenshot_as_png)\n",
    "time.sleep(2)\n",
    "driver.close()"
   ]
  },
  {
   "cell_type": "code",
   "execution_count": 14,
   "id": "d436bec7",
   "metadata": {},
   "outputs": [],
   "source": [
    "os.chdir(R'C:\\Users\\Merit.MSSPLACA004\\Desktop\\img_task')"
   ]
  }
 ],
 "metadata": {
  "kernelspec": {
   "display_name": "Python 3",
   "language": "python",
   "name": "python3"
  },
  "language_info": {
   "codemirror_mode": {
    "name": "ipython",
    "version": 3
   },
   "file_extension": ".py",
   "mimetype": "text/x-python",
   "name": "python",
   "nbconvert_exporter": "python",
   "pygments_lexer": "ipython3",
   "version": "3.8.8"
  }
 },
 "nbformat": 4,
 "nbformat_minor": 5
}
