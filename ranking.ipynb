{
 "cells": [
  {
   "cell_type": "code",
   "execution_count": 122,
   "id": "ee3b6878",
   "metadata": {},
   "outputs": [
    {
     "name": "stdout",
     "output_type": "stream",
     "text": [
      "batsmen\n",
      "tests\n",
      "odis\n",
      "t20s\n",
      "bowlers\n",
      "tests\n",
      "odis\n",
      "t20s\n",
      "all-rounders\n",
      "tests\n",
      "odis\n",
      "t20s\n",
      "teams\n",
      "tests\n",
      "odis\n",
      "t20s\n"
     ]
    }
   ],
   "source": [
    "driver_path=r\"C:\\Users\\merit\\Downloads\\chromedriver.exe\"\n",
    "driver=webdriver.Chrome(executable_path=driver_path)\n",
    "driver.get(\"https://www.cricbuzz.com/cricket-stats/icc-rankings/men\")\n",
    "driver.maximize_window()\n",
    "time.sleep(1)\n",
    "\n",
    "\n",
    "time.sleep(1)\n",
    "c=['batsmen','bowlers','all-rounders','teams']\n",
    "for i in c:\n",
    "    writer= pd.ExcelWriter(i+\".xlsx\",engine=\"xlsxwriter\")\n",
    "    print(i)\n",
    "    driver.find_element_by_xpath(\"//a[@id='\"+i+\"-tab']\").click()\n",
    "    l=['tests','odis','t20s']\n",
    "    for j in l:\n",
    "        lis=[]\n",
    "        teams=[]\n",
    "        print(j)\n",
    "        cn=i.replace(\"-\",\"\")\n",
    "        driver.find_element_by_xpath(\"//a[@id='\"+cn+\"-\"+j+\"-tab']\").click()\n",
    "        if cn != 'teams':\n",
    "            d=driver.find_elements_by_xpath(\"//a[@id='\"+i+\"-tab']//following::div[contains(@class,'cb-col cb-col-100 cb-font-14 cb-lst-itm')]\")\n",
    "            for v in d:\n",
    "                if v.text != \"\":\n",
    "                    lis.append(v.text.split('\\n'))\n",
    "                    df=pd.DataFrame(lis)\n",
    "                    df.drop([1,3],axis='columns',inplace=True)\n",
    "                    df.rename(columns={0:\"Position\",2:\"Player\",4:\"Rating\"},inplace=True)\n",
    "                    df.to_excel(writer,sheet_name=i+\"-\"+j,index=False)\n",
    "        \n",
    "        \n",
    "            \n",
    "        else:\n",
    "           \n",
    "            d=driver.find_elements_by_xpath(\"//a[@id='\"+i+\"-tab']//following::div[contains(@class,'cb-col cb-col-100 cb-font-14 cb')]\")\n",
    "        \n",
    "            for v in d:\n",
    "                if v.text != \"\":\n",
    "                    teams.append(v.text.split('\\n'))\n",
    "                    df1=pd.DataFrame(teams)\n",
    "                    df1.rename(columns={0:'Position',1:'Team',2:'Rating',3:'Points'},inplace=True)\n",
    "                    df1.to_excel(writer,sheet_name=i+\"-\"+j,index=False)\n",
    "    writer.save()\n",
    "    writer.close()\n",
    "\n",
    "       \n",
    "    time.sleep(2)\n",
    "       \n",
    "        "
   ]
  },
  {
   "cell_type": "code",
   "execution_count": 1,
   "id": "13b35407",
   "metadata": {},
   "outputs": [],
   "source": [
    "from selenium import webdriver\n",
    "from selenium.webdriver.support.ui import Select\n",
    "import pandas as pd\n",
    "import time"
   ]
  },
  {
   "cell_type": "code",
   "execution_count": 23,
   "id": "6afc407e",
   "metadata": {},
   "outputs": [
    {
     "name": "stdout",
     "output_type": "stream",
     "text": [
      "['Position', 'Player', 'Rating', '1', '    –']\n",
      "['Position', 'Player', 'Rating', '1', '    –']\n",
      "['Position', 'Player', 'Rating', '1', '    –']\n",
      "['Position', 'Player', 'Rating', '1', '    –']\n",
      "['Position', 'Player', 'Rating', '1', '    –']\n",
      "['Position', 'Player', 'Rating', '1', '    –']\n",
      "['Position', 'Player', 'Rating', '1', '    –']\n",
      "['Position', 'Player', 'Rating', '1', '    –']\n",
      "['Position', 'Player', 'Rating', '1', '    1']\n",
      "['* The ratings are officially updated after each series rather than after each Test', 'Position', 'Team', 'Rating', 'Points']\n",
      "['Position', 'Team', 'Rating', 'Points', '1']\n",
      "['Position', 'Team', 'Rating', 'Points', '1']\n"
     ]
    }
   ],
   "source": [
    "for i in lis:\n",
    "    s=i.split(\"\\n\")\n",
    "    print(s[0:5])"
   ]
  },
  {
   "cell_type": "code",
   "execution_count": 106,
   "id": "53ac4754",
   "metadata": {},
   "outputs": [],
   "source": [
    "import os\n",
    "os.chdir(r\"C:\\Users\\Merit.MSSPLACA004\\Desktop\\Rating_task\")"
   ]
  }
 ],
 "metadata": {
  "kernelspec": {
   "display_name": "Python 3",
   "language": "python",
   "name": "python3"
  },
  "language_info": {
   "codemirror_mode": {
    "name": "ipython",
    "version": 3
   },
   "file_extension": ".py",
   "mimetype": "text/x-python",
   "name": "python",
   "nbconvert_exporter": "python",
   "pygments_lexer": "ipython3",
   "version": "3.8.8"
  }
 },
 "nbformat": 4,
 "nbformat_minor": 5
}
